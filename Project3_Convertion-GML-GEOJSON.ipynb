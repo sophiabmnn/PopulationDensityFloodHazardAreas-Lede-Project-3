{
 "cells": [
  {
   "cell_type": "code",
   "execution_count": 1,
   "id": "05b2972a-0bbc-44be-8627-195036279889",
   "metadata": {},
   "outputs": [],
   "source": [
    "import geopandas as gpd"
   ]
  },
  {
   "cell_type": "code",
   "execution_count": 2,
   "id": "d7932e6b-a660-41b1-a8ff-e28708a55e70",
   "metadata": {},
   "outputs": [],
   "source": [
    "# Read GML File\n",
    "gdf = gpd.read_file(\"/Users/sophiabaumann/Desktop/Lede/Kurs/Projects/Project 3/Rawdata/nz_hazardArea_fluival_H-DE.gml\")"
   ]
  },
  {
   "cell_type": "code",
   "execution_count": 3,
   "id": "cfa01d8f-1d57-4e9c-b3b3-e250fe371cfa",
   "metadata": {},
   "outputs": [],
   "source": [
    "# Write as GEOJSON\n",
    "gdf.to_file(\"nz_hazardArea_fluival_H-DE.geojson\", driver=\"GeoJSON\")"
   ]
  }
 ],
 "metadata": {
  "kernelspec": {
   "display_name": "Python 3 (ipykernel)",
   "language": "python",
   "name": "python3"
  },
  "language_info": {
   "codemirror_mode": {
    "name": "ipython",
    "version": 3
   },
   "file_extension": ".py",
   "mimetype": "text/x-python",
   "name": "python",
   "nbconvert_exporter": "python",
   "pygments_lexer": "ipython3",
   "version": "3.12.10"
  }
 },
 "nbformat": 4,
 "nbformat_minor": 5
}
